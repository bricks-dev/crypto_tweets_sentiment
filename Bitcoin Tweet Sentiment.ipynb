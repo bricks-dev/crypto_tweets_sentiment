{
 "cells": [
  {
   "cell_type": "markdown",
   "metadata": {},
   "source": [
    "### This is the minimal amount of code for you to start classifying sentiment to 1 (negative) or 2 (positive)\n",
    "To find out more, please follow fastai's lesson 4:\n",
    "https://github.com/fastai/fastai/blob/master/courses/dl1/lesson4-imdb.ipynb?short_path=41823fc\n",
    "\n",
    "用最少代码运行语言情感分析，借用fastai已有的语义分析模型，通过IMDB数据库训练，迁移到跟比特币和区块链相关的语义情感分析上。\n",
    "如果想看训练的代码，请跳转到fastai"
   ]
  },
  {
   "cell_type": "code",
   "execution_count": 1,
   "metadata": {},
   "outputs": [],
   "source": [
    "%reload_ext autoreload\n",
    "%autoreload 2\n",
    "%matplotlib inline\n",
    "\n",
    "import torchtext\n",
    "from torchtext import vocab, data\n",
    "from torchtext.datasets import language_modeling\n",
    "\n",
    "# fastai libraries\n",
    "from fastai.learner import partial, optim, accuracy_np, to_np, torch\n",
    "from fastai.nlp import TextData\n",
    "from fastai.lm_rnn import seq2seq_reg\n",
    "\n",
    "\n",
    "import dill as pickle\n",
    "import spacy"
   ]
  },
  {
   "cell_type": "code",
   "execution_count": 2,
   "metadata": {},
   "outputs": [],
   "source": [
    "spacy_tok = spacy.load('en')"
   ]
  },
  {
   "cell_type": "code",
   "execution_count": 3,
   "metadata": {},
   "outputs": [],
   "source": [
    "TEXT = data.Field(lower=True, tokenize=\"spacy\")"
   ]
  },
  {
   "cell_type": "markdown",
   "metadata": {},
   "source": [
    "Download pickle file here: https://drive.google.com/file/d/1e3Bq9VzDsS_NGxyiY1QyEGXSnccuHFhJ/view?usp=sharing\n",
    "\n",
    "Put this in the project dir"
   ]
  },
  {
   "cell_type": "code",
   "execution_count": 4,
   "metadata": {},
   "outputs": [],
   "source": [
    "PATH='./'\n",
    "TEXT = pickle.load(open(f'{PATH}/TEXT.pkl','rb'))"
   ]
  },
  {
   "cell_type": "code",
   "execution_count": 5,
   "metadata": {},
   "outputs": [
    {
     "data": {
      "text/plain": [
       "['<unk>', '<pad>', 'the', ',', '.', 'and', 'a', 'of', 'to', 'is', 'in', 'it']"
      ]
     },
     "execution_count": 5,
     "metadata": {},
     "output_type": "execute_result"
    }
   ],
   "source": [
    "TEXT.vocab.itos[:12]"
   ]
  },
  {
   "cell_type": "markdown",
   "metadata": {},
   "source": [
    "The first time you run this, torchtext will download IMDB data to project folder"
   ]
  },
  {
   "cell_type": "code",
   "execution_count": 6,
   "metadata": {},
   "outputs": [
    {
     "name": "stdout",
     "output_type": "stream",
     "text": [
      "downloading aclImdb_v1.tar.gz\n"
     ]
    }
   ],
   "source": [
    "IMDB_LABEL = data.Field(sequential=False)\n",
    "splits = torchtext.datasets.IMDB.splits(TEXT, IMDB_LABEL, './')"
   ]
  },
  {
   "cell_type": "markdown",
   "metadata": {},
   "source": [
    "Download cycle file here: https://drive.google.com/open?id=1yqIXOYTXpS5fSyzQlyYxnN6djp27EzGa\n",
    "\n",
    "Download encoder file here: https://drive.google.com/open?id=16l7RR8zVJp7tukFOAH778rdi4ntO9_7i\n",
    "\n",
    "put these two files inside `models` dir"
   ]
  },
  {
   "cell_type": "code",
   "execution_count": 8,
   "metadata": {},
   "outputs": [],
   "source": [
    "bs=56        # batch size\n",
    "bptt=70      # batch per token\n",
    "em_sz = 200  # size of each embedding vector\n",
    "nh = 500     # number of hidden activations per layer\n",
    "nl = 3       # number of layers\n",
    "opt_fn = partial(optim.Adam, betas=(0.7, 0.99))\n",
    "md2 = TextData.from_splits(PATH, splits, bs)\n",
    "m3 = md2.get_model(opt_fn, 1500, bptt, emb_sz=em_sz, n_hid=nh, n_layers=nl, \n",
    "           dropout=0.1, dropouti=0.4, wdrop=0.5, dropoute=0.05, dropouth=0.3)\n",
    "m3.reg_fn = partial(seq2seq_reg, alpha=2, beta=1)\n",
    "m3.load_encoder(f'adam3_20_enc')\n",
    "m3.load_cycle('imdb2', 4)"
   ]
  },
  {
   "cell_type": "markdown",
   "metadata": {},
   "source": [
    "Check accuracy, should be about 0.93\n",
    "Skip this check if your laptop is too slow"
   ]
  },
  {
   "cell_type": "code",
   "execution_count": 9,
   "metadata": {},
   "outputs": [
    {
     "data": {
      "text/plain": [
       "0.9332"
      ]
     },
     "execution_count": 9,
     "metadata": {},
     "output_type": "execute_result"
    }
   ],
   "source": [
    "accuracy_np(*m3.predict_with_targs())"
   ]
  },
  {
   "cell_type": "code",
   "execution_count": 10,
   "metadata": {},
   "outputs": [
    {
     "name": "stdout",
     "output_type": "stream",
     "text": [
      "Variable containing:\n",
      " 13\n",
      "  9\n",
      " 62\n",
      " 22\n",
      "  0\n",
      "[torch.cuda.LongTensor of size 5x1 (GPU 0)]\n",
      "\n",
      "Variable containing:\n",
      "-8.8046 -2.2182  2.5809\n",
      "[torch.cuda.FloatTensor of size 1x3 (GPU 0)]\n",
      "\n",
      "2\n"
     ]
    }
   ],
   "source": [
    "m=m3.model\n",
    "\n",
    "test_str =\"this is good for bitcoin\"\n",
    "tokenized_str = spacy_tok(test_str)\n",
    "token_lst = [sent.string.strip() for sent in tokenized_str]\n",
    "\n",
    "t = TEXT.numericalize([token_lst])\n",
    "print(t)\n",
    "\n",
    "# Set batch size to 1\n",
    "m[0].bs=1\n",
    "\n",
    "# Turn off dropout\n",
    "m.eval()\n",
    "# Reset hidden state\n",
    "m.reset()\n",
    "# Get predictions from model\n",
    "res,*_ = m(t)\n",
    "num_res = to_np(torch.topk(res[-1], 1)[1])[0]\n",
    "\n",
    "print(res)\n",
    "print(num_res)"
   ]
  },
  {
   "cell_type": "markdown",
   "metadata": {},
   "source": [
    "1 (negative) or 2 (positive)"
   ]
  },
  {
   "cell_type": "code",
   "execution_count": null,
   "metadata": {},
   "outputs": [],
   "source": []
  }
 ],
 "metadata": {
  "kernelspec": {
   "display_name": "Python 3",
   "language": "python",
   "name": "python3"
  },
  "language_info": {
   "codemirror_mode": {
    "name": "ipython",
    "version": 3
   },
   "file_extension": ".py",
   "mimetype": "text/x-python",
   "name": "python",
   "nbconvert_exporter": "python",
   "pygments_lexer": "ipython3",
   "version": "3.6.5"
  }
 },
 "nbformat": 4,
 "nbformat_minor": 2
}
